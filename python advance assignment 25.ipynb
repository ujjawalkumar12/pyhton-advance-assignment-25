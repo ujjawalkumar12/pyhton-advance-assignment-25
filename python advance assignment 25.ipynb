{
 "cells": [
  {
   "cell_type": "markdown",
   "id": "639dbddb",
   "metadata": {},
   "source": [
    "Q1. What is the distinction between a numpy array and a pandas data frame? Is there a way to convert between the two if there ?\n",
    "\n",
    "\n",
    "\n",
    "Ans: Numpy Ndarray provides a lot of convenient and optimized methods for performing several mathematical operations on vectors.\n",
    "\n",
    "Pandas Dataframe is an in-memory 2-dimensional tabular representation of data. In simpler words, it can be seen as a spreadsheet having rows and columns.\n",
    "\n",
    "Conversion : Dataframe=pandas.DataFrame(array)"
   ]
  },
  {
   "cell_type": "markdown",
   "id": "85f53a03",
   "metadata": {},
   "source": [
    "Q2. What can go wrong when an user enters in a stock-ticker symbol, and how do you handle it?\n",
    "\n",
    "A ticker symbol change really means nothing to you, the investor, in the grand scheme of things. The change doesn't do anything to markets or to the way you execute trades. Since everything is electronic, your trading platform or broker will already update your portfolio to include the new ticker symbol."
   ]
  },
  {
   "cell_type": "markdown",
   "id": "fb540b1b",
   "metadata": {},
   "source": [
    "Q3. Identify some of the plotting techniques that are used to produce a stock-market chart ?\n",
    "\n",
    "Ans: Bar chart, Line Chart are used for plotting.\n",
    "\n",
    "\n",
    "\n",
    "Q4. Why is it essential to print a legend on a stock market chart ?\n",
    "\n",
    "Ans: Legend will help comparison between different stocks, so will be essential on a stock market chart\n",
    "\n",
    "\n",
    "\n",
    "Q5. What is the best way to limit the length of a pandas data frame to less than a year ?\n",
    "\n",
    "Ans: : We can use start and end parameters for that. In start we write the date from where we are starting and at the end we write the end date. SO within this span we can restric the duration.Also we can use the parameters like periods for how much times we need the duration and we can also use the frequency parameter.\n",
    "\n",
    "\n",
    "Q6. What is the definition of a 180-day moving average ?\n",
    "\n",
    "Ans: : The 180-day moving average is represented as a line on charts and represents the average price over the past 180 days. The moving average can give traders a sense regarding whether the trend is up or down, while also identifying potential support or resistance areas."
   ]
  },
  {
   "cell_type": "markdown",
   "id": "cafde932",
   "metadata": {},
   "source": [
    "Q7. Did the chapter's final example use \"indirect\"importing? If so, how exactly do you do it?\n",
    "\n",
    "\n",
    "Ans: indirect imports in Python throw them when they are actually used. Excessively permissive except clauses can hide them and result in unexpected behavior. Here's how to verify them at runtime.\n",
    "\n",
    "The Python import statement imports code from one module into another program. You can import all the code from a module by specifying the import keyword followed by the module you want to import. import statements appear at the top of a Python file, beneath any comments that may exist."
   ]
  }
 ],
 "metadata": {
  "kernelspec": {
   "display_name": "Python 3 (ipykernel)",
   "language": "python",
   "name": "python3"
  },
  "language_info": {
   "codemirror_mode": {
    "name": "ipython",
    "version": 3
   },
   "file_extension": ".py",
   "mimetype": "text/x-python",
   "name": "python",
   "nbconvert_exporter": "python",
   "pygments_lexer": "ipython3",
   "version": "3.9.12"
  }
 },
 "nbformat": 4,
 "nbformat_minor": 5
}
